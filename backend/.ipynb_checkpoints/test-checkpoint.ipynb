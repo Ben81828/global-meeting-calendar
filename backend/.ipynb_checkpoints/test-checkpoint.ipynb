{
 "cells": [
  {
   "cell_type": "code",
   "execution_count": 1,
   "id": "510669bb-6e16-4398-b978-b3fdb7712297",
   "metadata": {},
   "outputs": [],
   "source": [
    "import os\n",
    "import pandas as pd\n",
    "import sqlite3\n",
    "\n",
    "class HolidaySQLconn:\n",
    "\n",
    "    def __init__(self):\n",
    "        self.hol_path = \"./hols/\"\n",
    "        self.db_path = \"./holiday.db\"  \n",
    "\n",
    "    def hols_to_df(self):\n",
    "        \n",
    "        self.holiday_df  = pd.DataFrame(columns=[\"Year\",\"Month\",\"Date\",\"holiday_name\", \"holiday_type\", \"Country_name\"])\n",
    "        for file_name in os.listdir(self.hol_path):\n",
    "            if \".hol\" not in file_name:\n",
    "                continue\n",
    "            with open(self.hol_path+file_name, 'r', encoding='utf-16') as file:\n",
    "                data = file.read()\n",
    "\n",
    "            holiday_datas = data.split(\"\\n\")\n",
    "\n",
    "            # holiday_datas[0] = [AUHQ_2023節日假期表] 21\n",
    "            country_name = holiday_datas[0].split(\"_\")[0].split(\"[\")[1]\n",
    "\n",
    "            for data in holiday_datas[1:]:\n",
    "                # data = '開國紀念日(放假),2023/1/1'\n",
    "                holiday_name = data.split(\",\")[0].split(\"(\")[0]\n",
    "                holiday_type = data.split(\",\")[0].split(\"(\")[1].split(\")\")[0]\n",
    "\n",
    "                time = data.split(\",\")[1]\n",
    "\n",
    "                year = time.split(\"/\")[0]\n",
    "                month = time.split(\"/\")[1]\n",
    "                date = time.split(\"/\")[2]\n",
    "\n",
    "                self.holiday_df .loc[len(self.holiday_df )] = [year, month, date, holiday_name, holiday_type, country_name]\n",
    "        \n",
    "        return self.holiday_df \n",
    "\n",
    "    def create_conn(self):\n",
    "        self.conn = sqlite3.connect(self.db_path)\n",
    "        self.c = self.conn.cursor()\n",
    "\n",
    "#     def create_hol_table(self):\n",
    "#         create_hol_table_cmd = \\\n",
    "#             '''CREATE TABLE holiday\n",
    "#                 (Year text, \n",
    "#                 Month text, \n",
    "#                 Date text, \n",
    "#                 holiday_name text, \n",
    "#                 holiday_type text, \n",
    "#                 Country_name text, \n",
    "#                 PRIMARY KEY (Year, Month, Date, holiday_name, Country_name))''' \n",
    "\n",
    "#         self.create_conn()\n",
    "\n",
    "#         try:\n",
    "#             self.c.execute(create_hol_table_cmd)\n",
    "#             self.conn.commit()\n",
    "#         except Exception as e:\n",
    "#             print(e)\n",
    "#         finally:\n",
    "#             self.conn.close()\n",
    "    \n",
    "    def create_country_table(self):\n",
    "        # 如果要做一個table，pk為id，id為自行生成的流水號\n",
    "        create_country_table_cmd = \\\n",
    "            '''CREATE TABLE country\n",
    "                (id integer PRIMARY KEY AUTOINCREMENT,\n",
    "                country_name text)'''\n",
    "\n",
    "        #  執行create_country_table_cmd\n",
    "        try:\n",
    "            self.create_conn()\n",
    "            self.c.execute(create_country_table_cmd)\n",
    "            self.conn.commit()\n",
    "\n",
    "        except Exception as e:\n",
    "            print(e)\n",
    "\n",
    "        finally:\n",
    "            self.conn.close()\n",
    "        \n",
    "    \n",
    "    def insert_country_data(self):\n",
    "        # 將self.holiday_df內的country_name資料，塞入country table\n",
    "        country_array = pd.unique(self.holiday_df.Country_name) # 取得所有不重複的country_name\n",
    "\n",
    "        # 用迴圈執行update_country_table_cmd將country_array資料寫入country table\n",
    "        for country in country_array:\n",
    "            try:\n",
    "                update_country_table_cmd = f\"INSERT INTO country (country_name) VALUES ('{country}')\"\n",
    "                self.create_conn()\n",
    "                self.c.execute(update_country_table_cmd)\n",
    "                self.conn.commit()\n",
    "            except Exception as e:\n",
    "                print(e)\n",
    "            finally:\n",
    "                self.conn.close()\n",
    "                \n",
    "    def check_country_table(self):\n",
    "        # 執行select指令，存入變數country_table，確認資料有塞進去\n",
    "        select_country_table_cmd = \"SELECT * FROM country\"\n",
    "        \n",
    "        try:\n",
    "            self.create_conn()\n",
    "            country_table = self.c.execute(select_country_table_cmd).fetchall()\n",
    "            print(country_table)\n",
    "            \n",
    "        except Exception as e:\n",
    "            print(e)\n",
    "            \n",
    "        finally:\n",
    "            self.conn.close()\n",
    "        \n",
    "    \n",
    "    def df_to_sqlite(self):\n",
    "        # create table and use Year, Month, Date, holiday_name Country_name, as primary key\n",
    "        # add try except to avoid possible error\n",
    "        self.holiday_df  = self.hols_to_df()\n",
    "\n",
    "        insert_hol_cmd = \"INSERT INTO holiday VALUES (?,?,?,?,?)\"\n",
    "\n",
    "        for i in range(len(self.holiday_df )):\n",
    "            try:\n",
    "                year = self.holiday_df .iloc[i][0]\n",
    "                month = self.holiday_df .iloc[i][1]\n",
    "                date = self.holiday_df .iloc[i][2]\n",
    "                holiday_name = self.holiday_df .iloc[i][3]\n",
    "                holiday_type = self.holiday_df .iloc[i][4]\n",
    "                country_name = self.holiday_df .iloc[i][5]\n",
    "\n",
    "                self.create_conn()\n",
    "                self.c.execute(insert_hol_cmd, (year, month, date, holiday_name, holiday_type, country_name))\n",
    "                self.conn.commit()\n",
    "            except Exception as e:\n",
    "                print(e)\n",
    "            finally:\n",
    "                self.conn.close()"
   ]
  },
  {
   "cell_type": "code",
   "execution_count": 5,
   "id": "3fd3e70d-bac2-473c-8354-f1600e03aacb",
   "metadata": {},
   "outputs": [],
   "source": [
    "# if __name__ == '__main__':\n",
    "#     conn_obj = HolidaySQLconn()\n",
    "#     conn_obj.df_to_sqlite()"
   ]
  },
  {
   "cell_type": "code",
   "execution_count": 2,
   "id": "37522f04-db7d-4679-80ba-8ce80ce56d5d",
   "metadata": {},
   "outputs": [],
   "source": [
    "conn_obj = HolidaySQLconn()"
   ]
  },
  {
   "cell_type": "code",
   "execution_count": 3,
   "id": "863c39cd-6a2f-4259-bc49-4a1dcd3ff098",
   "metadata": {
    "tags": []
   },
   "outputs": [
    {
     "name": "stdout",
     "output_type": "stream",
     "text": [
      "\n"
     ]
    }
   ],
   "source": [
    "conn_obj.hols_to_df()\n",
    "print()"
   ]
  },
  {
   "cell_type": "code",
   "execution_count": 4,
   "id": "68e4cc35-cb17-468e-bd4f-fc7813780e03",
   "metadata": {},
   "outputs": [],
   "source": []
  },
  {
   "cell_type": "code",
   "execution_count": 5,
   "id": "a92a5f4c-6c62-4890-8077-3ff295e6a21d",
   "metadata": {},
   "outputs": [],
   "source": []
  },
  {
   "cell_type": "code",
   "execution_count": 6,
   "id": "a3927ef5-defd-4fa1-8471-45990c74aba4",
   "metadata": {},
   "outputs": [],
   "source": [
    "\n"
   ]
  },
  {
   "cell_type": "code",
   "execution_count": 8,
   "id": "d456e05a-d2c5-43dc-9df4-c14b9bb33a84",
   "metadata": {},
   "outputs": [
    {
     "data": {
      "text/plain": [
       "[(1, 'AUCN'), (2, 'AUHQ')]"
      ]
     },
     "execution_count": 8,
     "metadata": {},
     "output_type": "execute_result"
    }
   ],
   "source": [
    "country_table"
   ]
  },
  {
   "cell_type": "code",
   "execution_count": null,
   "id": "0a1971bc-b0ac-4beb-a6b4-7b93d3bf23ac",
   "metadata": {},
   "outputs": [],
   "source": []
  },
  {
   "cell_type": "code",
   "execution_count": null,
   "id": "f960b1d3-0e5f-4ede-9ffb-6f98a71980c6",
   "metadata": {},
   "outputs": [],
   "source": []
  },
  {
   "cell_type": "code",
   "execution_count": null,
   "id": "6943f283-63c6-4047-b3bd-d45a94777a40",
   "metadata": {},
   "outputs": [],
   "source": []
  },
  {
   "cell_type": "code",
   "execution_count": null,
   "id": "752d6ca4-3ac3-46aa-bd6b-6c8dc40c31f7",
   "metadata": {},
   "outputs": [],
   "source": []
  },
  {
   "cell_type": "code",
   "execution_count": null,
   "id": "abd229b8-715a-4283-8b6a-3663a55ff4b9",
   "metadata": {},
   "outputs": [],
   "source": []
  },
  {
   "cell_type": "code",
   "execution_count": null,
   "id": "844de713-550c-463f-a859-4e22b3818c39",
   "metadata": {},
   "outputs": [],
   "source": []
  }
 ],
 "metadata": {
  "kernelspec": {
   "display_name": "Python 3 (ipykernel)",
   "language": "python",
   "name": "python3"
  },
  "language_info": {
   "codemirror_mode": {
    "name": "ipython",
    "version": 3
   },
   "file_extension": ".py",
   "mimetype": "text/x-python",
   "name": "python",
   "nbconvert_exporter": "python",
   "pygments_lexer": "ipython3",
   "version": "3.8.10"
  }
 },
 "nbformat": 4,
 "nbformat_minor": 5
}
